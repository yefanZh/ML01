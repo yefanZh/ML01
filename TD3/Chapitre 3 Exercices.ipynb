{
 "cells": [
  {
   "cell_type": "markdown",
   "metadata": {},
   "source": [
    "# ML01 : TD3 - Classifieur de Bayes Naïf"
   ]
  },
  {
   "cell_type": "code",
   "execution_count": 4,
   "metadata": {},
   "outputs": [],
   "source": [
    "import numpy as np\n",
    "import pandas as pd\n",
    "import matplotlib.pyplot as plt\n",
    "from sklearn import datasets\n",
    "import scipy.stats as stats\n",
    "\n",
    "np.random.seed(407)"
   ]
  },
  {
   "cell_type": "markdown",
   "metadata": {},
   "source": [
    "# 1. Contexte et rappel du Classifieur de Bayes Naïf\n",
    "\n",
    "Plaçons nous dans un contexte général où nous disposons d'un ensemble de $n$ observations labélisées (une base d'apprentissage contenant $n$ observations dont nous connaissons les classes). Notons $\\mathcal{S} = \\left\\{\\left(Y^{(i)},X^{(i)}\\right), i = 1,\\dots,n\\right\\}$ cette base d'apprentissage et $K\\geq 2$ le nombre de classes possibles à diagnostiquer (à prédire). Pour chaque observation $i\\in\\{1,\\dots,n\\}$, \n",
    "- $X^{(i)} = [X_{1}^{(i)},\\dots,X_{d}^{(i)}]$ correspondra au profil caractérisant l'observation $i$ ($X^{(i)}$ est un vecteur aléatoire composé de $d$ variables aléatoires).\n",
    "- $Y^{(i)}\\in\\{1,\\dots,K\\}$ correspondra à la variable aléatoire (catégorielle) caractérisant la classe de l'observation $i$.\n",
    "\n",
    "Nous nous plaçons de plus dans le contexte général où le modèles génératif ayant permis de générer les observations de la base d'apprentissage est inconnu. En d'autres termes, nous ne connaissons pas les densités de distributions des variables aléatoire $(Y^{(i)},X^{(i)})$.\n",
    "\n",
    "Notre objectif central reste le même que pour les précédents TDs : Nous souhaitons apprendre un classifieur (une règle de décision) à partir des données d'apprentissage permettant de prédire (diagnostiquer) la classe $Y^{(i)}$ d'une observation $i$ à partir du profil $X^{(i)} = [X_{1}^{(i)},\\dots,X_{d}^{(i)}]$ caractérisant cette observation.\n",
    "Plus particulièrement dans ce TD, nous souhaitons apprendre le classifieur de Bayes Naïf.\n",
    "\n",
    "**Le classifieur de Bayes Naïf** est un modèle probabiliste charchant à approximer la formule de Bayes en supposant que toutes les variables explicatives $\\{X_{1}^{(i)},\\dots,X_{d}^{(i)}\\}$, composant le profil $X^{(i)}$ de chaque observation, sont statistiquement indépendantes les unes des autres.\n"
   ]
  },
  {
   "cell_type": "markdown",
   "metadata": {},
   "source": [
    "**Question 1.** Écrire la formule de Bayes permettant de modéliser la probabilité qu'une observation $i$ soit dans la classe $k\\in\\{1,\\dots,K\\}$ à partir du profile $X^{(i)} = [X_{1}^{(i)},\\dots,X_{d}^{(i)}]$. En déduire la règle de décision du classifieur de Bayes permettant d'attribuer la classe la plus probable à une observation $X^{(i)} = x^{(i)}$ et simplifier là. Cette règle de décision simplifiée est communément appelée la \"MAP rule\" (règle de décision du Maximum A Posteriori).\n",
    "\n",
    "- Réponse à la Question 1 : ...\n",
    "    "
   ]
  },
  {
   "cell_type": "markdown",
   "metadata": {},
   "source": [
    "**Question 1.2.** En supposant que toutes les variables explicatives $\\{X_{1}^{(i)},\\dots,X_{d}^{(i)}\\}$ composant le profil $X^{(i)}$ de chaque observation sont indépendantes les unes des autres, comment pouvons-nous simplifier cette règle de décision du Maximum A Posteriori ?\n",
    "\n",
    "- Réponse à la Question 2 : ..."
   ]
  },
  {
   "cell_type": "markdown",
   "metadata": {},
   "source": [
    "**Intérêt de faire l'hypothèse d'indépendance entre variables.** Pour rappel, nous ne connaissons pas les densités de distributions des variables aléatoires $(Y^{(i)},X^{(i)})$. En particulier, nous ne connaissons pas la fonction de probabilité jointe $f_{X|Y=k}$ des variables caractéristiques dans chaque classe $k$ (également appelée la vraisemblance de chaque classe). Lorsque nous disposons d'un grand nombre $d$ de variables explicatives, l'estimation de cette la fonction de probabilité jointe $f_{X|Y=k}$ est très difficile (surtout lorsque nous travaillons avec des variables explicatives numériques (comme la température d'un patient) et d'autres catégorielles (comme l'état fumeur/non fumeur d'un patient). \n",
    "\n",
    "D'après la question 2, l'hypothèse naïve d'indépendance entre variables descrptives permet de simplifier cette étape de modélisation de la vraisemblance puisque cela nous ramène à modéliser indépendamment la vraisemblance $f_{X_j|Y=k}$ de chaque variable $j\\in\\{1,\\dots,d\\}$ dans chaque classe $k\\in\\{1,\\dots,K\\}$."
   ]
  },
  {
   "cell_type": "markdown",
   "metadata": {},
   "source": [
    "# 2. Apprentissage du classifieur de Bayes Naïf Empirique"
   ]
  },
  {
   "cell_type": "markdown",
   "metadata": {},
   "source": [
    "D'après la question 2, nous avons besoin de modéliser indépendamment la fonction de probabilité $f_{X_j|Y=k}$ de chaque variable descriptive $j\\in\\{1,\\dots,d\\}$ dans chaque classe $k\\in\\{1,\\dots,K\\}$, ainsi que les probabilités à priori $\\mathbb{P}(Y^{(i)}=k)$ de chaque classe, le tout à partir des données d'apprentissage."
   ]
  },
  {
   "cell_type": "markdown",
   "metadata": {},
   "source": [
    "**Question 2.1.** Concernant l'estimation des probabilités à priori de chaque classe, une approche usuelle est de les approximer en calculant les proportions par classe dans la base d'apprentissage. Autrement dit, les probabilités à priori $\\mathbb{P}(Y^{(i)}=k)$ de chaque classe $k\\in\\{1,\\dots,K\\}$ sont estimées par :\n",
    "$$\n",
    "\\hat{\\mathbb{P}}(Y^{(i)}=k) \\; = \\; \\frac{1}{n} \\sum_{i\\in\\mathcal{I}} \\mathbf{1}_{\\{Y^{(i)} = k\\}}.\n",
    "$$\n",
    "Implémenter une fonction permetant d'estimer les probabilités à priori $\\mathbb{P}(Y^{(i)}=k)$ de chaque classe $k\\in\\{1,\\dots,K\\}$ à partir des données d'apprentissage."
   ]
  },
  {
   "cell_type": "code",
   "execution_count": 2,
   "metadata": {},
   "outputs": [],
   "source": [
    "# RÉPONSE À LA QUESTION 2.1 :\n",
    "\n",
    "# Nous appelerons \"priori_hat\" le vecteur contenant l'estimation des probabilités à priori de chaque classe.\n",
    "\n",
    "def estimation_priors(K,Y):\n",
    "    '''\n",
    "    Parameters\n",
    "    ----------\n",
    "    K : int\n",
    "        Number of classes.\n",
    "    Y : np.array\n",
    "        Real labels.\n",
    "\n",
    "    Returns\n",
    "    -------\n",
    "    piori_hat : Array of floats\n",
    "        Class proportions.\n",
    "    '''\n",
    "    \n",
    "    # .... À COMPLETER. ...\n",
    "    \n",
    "    return piori_hat\n",
    "    \n"
   ]
  },
  {
   "cell_type": "markdown",
   "metadata": {},
   "source": [
    "**Question 2.2.** Concernant la modélisation des vraisemblance $f_{X_j|Y=k}$ de chaque variable descriptive $j\\in\\{1,\\dots,d\\}$ dans chaque classe, une approche usuelle est la suivante :\n",
    "\n",
    "- Si la variable descriptive $j$ est une variable catégorielle à $T\\geq 2$ valeurs possibles (par exemple est-ce qu'un patient est fumeur ou non), nous considérons que $(X_{j}^{(i)}|Y_i = k) \\sim \\mathrm{Cat}(T,[p_{j,k,1},\\dots,p_{j,k,T}])$, où quelque soit $t \\in \\{1,\\dots,T\\}$,   $p_{j,k,t} = \\mathbb{P}(X_{j}^{(i)} = t|Y^{(i)}=k)$.\n",
    "  Comme nous l'avons rappelé dans la première partie, la loi de $(X_{j}^{(i)}|Y^{(i)} = k)$ n'est pas connue est donc nous ne connaissons pas les paramètres $[p_{j,k,1},\\dots,p_{j,k,T}]$. À partir de la base d'apprentissage, nous estimons donc ces paramètres de sotre que nos paramètres estimés rendent les observations de la base d'apprentissage les plus plausibles possible. Autrement dit nous les estimons par la méthode du maximum de vraisemblance. Ceci revient à calculer, pour chaque variable catégorielle $j$, pour chaque classe $k\\in\\{1,\\dots,K\\}$ et pour chaque catégorie $t \\in \\{1,\\dots,T\\}$ :\n",
    "  \n",
    "  $$\n",
    "  \\hat{p}_{j,k,t} \\; = \\; \\hat{\\mathbb{P}}\\left(X_{j}^{(i)} = t \\mid Y^{(i)}=k\\right) \\; = \\; \\frac{1}{n_k} \\sum_{i\\in\\mathcal{I_k}} \\mathbf{1}_{\\{x_{j}^{(i)} = t\\}},\n",
    "  $$\n",
    "  \n",
    "    où $I_k$ correspond aux observations de la base d'apprentissage issues de la classe $k$ et $n_k$ correspond au nombre des ces observations issues de la classe $k$.\n",
    "  \n",
    "\n",
    "- Si la variable descriptive $j$ est une variable numérique, une approche usuelle est alors de modéliser les distributions de $(X_{j}^{(i)}|Y^{(i)} = k)$ par des gaussiennes dont les moyennes et variances sont à estimer à partir de la base d'apprentissage, en cherchant à maximiser la vraisemblance par classe. Autrement dit, on estime que pour chaque variable numérique $j$ et pour chaque classe $k\\in\\{1,\\dots,K\\}$, $(X_{j}^{(i)}|Y^{(i)} = k) \\sim \\mathcal{N}(\\hat{\\mu}_{jk},\\hat{\\sigma}_{jk}^2)$, où d'après la question 3 du TD2, les paramètres $\\left\\{\\hat{\\mu}_{jk},\\hat{\\sigma}_{jk}^2\\right\\}$ sont estimés par\n",
    "\n",
    "    $$\n",
    "    \\hat{\\mu}_{jk} = \\frac{1}{n_k} \\sum_{i\\in I_k} x_{j}^{(i)} \n",
    "    \\quad \\quad \\text{et} \\quad \\quad\n",
    "    \\hat{\\sigma}_{jk}^2 = \\frac{1}{n_k} \\sum_{i\\in I_k} \\left(x_{j}^{(i)} - \\hat{\\mu}_{jk} \\right)^2.\n",
    "    $$\n",
    "    \n",
    "  De ce fait, la vraisemblance $\\hat{f}_{X_j|Y=k}\\left(x_{j}^{(i)}\\right)$ de chaque variable descriptive numérique $j$ dans chaque classe $k$ est estimée par\n",
    "  \n",
    "    $$\n",
    "    \\hat{f}_{X_j|Y=k}\\left(x_{j}^{(i)}\\right) \\;=\\; \\frac{1}{\\hat{\\sigma}_{jk} \\sqrt{2\\pi}} \\, \\mathrm{exp}\\left( -\\frac{(x_{j}^{(i)}-\\hat{\\mu}_{jk})^2}{2\\hat{\\sigma}_{jk}^2}\\right).\n",
    "    $$\n",
    "    \n",
    "    \n",
    "- **Question :**  Implémenter une fonction permettant d'estimer les paramètres des vraisemblances d'une variable catégorielle $j$ dans chaque classe $k$. Implémenter ensuite une fonction permettant d'estimer les paramètres des vraisemblances d'une variable numérique $j$ dans chaque classe $k$."
   ]
  },
  {
   "cell_type": "code",
   "execution_count": 3,
   "metadata": {},
   "outputs": [],
   "source": [
    "# RÉPONSE À LA QUESTION 2.2 :\n",
    "\n",
    "# Pour une variable catégorielle :\n",
    "\n",
    "def estimation_vraisemblance_cat(Xj,Y,K,T):\n",
    "    '''\n",
    "    Parameters\n",
    "    ----------\n",
    "    Xj : np.array\n",
    "        Vecteur contenant les données d'apprentissage de la variable j.\n",
    "    Y : np.array\n",
    "        Labels des observations de la base d'apprentissage\n",
    "    K : int\n",
    "        Number of classes.\n",
    "    T : int\n",
    "        Number of discrete profiles for the categorical variable Xj.\n",
    "\n",
    "    Returns\n",
    "    -------\n",
    "    pHatj : Array of floats\n",
    "        Estimation des vraisemblance catégorielles dans chaque classe.\n",
    "    '''\n",
    "    \n",
    "    pHatj = np.zeros((K,T))\n",
    "    \n",
    "    # .... À COMPLETER. ...\n",
    "    \n",
    "    return pHatj\n",
    "    \n",
    "    \n",
    "    \n",
    "    \n",
    "    \n",
    "\n",
    "# Pour une variable numérique :\n",
    "\n",
    "def estimation_vraisemblance_num(Xj,Y,K):\n",
    "    '''\n",
    "    Parameters\n",
    "    ----------\n",
    "    Xj : np.array\n",
    "        Vecteur contenant les données d'apprentissage de la variable j.\n",
    "    Y : np.array\n",
    "        Labels des observations de la base d'apprentissage\n",
    "    K : int\n",
    "        Number of classes.\n",
    "\n",
    "    Returns\n",
    "    -------\n",
    "    mu_j : Array of floats\n",
    "        Estimation des moyennes des gaussiennes dans chaque classe.\n",
    "    sigma_j : Array of floats\n",
    "        Estimation des écart-types des gaussiennes dans chaque classe.\n",
    "    '''\n",
    "\n",
    "    mu_j = np.zeros((1,K))\n",
    "    sigma_j = np.zeros((1,K))\n",
    "    \n",
    "    # .... À COMPLETER. ...\n",
    "    \n",
    "    return mu_j, sigma_j"
   ]
  },
  {
   "cell_type": "markdown",
   "metadata": {},
   "source": [
    "# 3. Application du classifieur de Bayes Naïf Empirique"
   ]
  },
  {
   "cell_type": "markdown",
   "metadata": {},
   "source": [
    "Compiler la cellule ci-dessous permettant de générer une base de données d'apprentissage contenant nTrain = 100 observations et une base de test contenant 900 observations. \n",
    "- Chaque observation est décrite par 3 variables : les deux premières variables sont numériques et la 3ème variable est une variable catégorielle avec $T=4$ catégories possibles.\n",
    "- Nous avons $K=2$ classes à prédire à partir de ces 3 variables descriptives."
   ]
  },
  {
   "cell_type": "code",
   "execution_count": 4,
   "metadata": {},
   "outputs": [],
   "source": [
    "# Génération base de données\n",
    "\n",
    "# RÉPONSE À LA QUESTION 1:\n",
    "\n",
    "np.random.seed(407)\n",
    "\n",
    "K = 2\n",
    "\n",
    "mu11 = 37.8\n",
    "mu12 = 39\n",
    "sigma11 = 0.4\n",
    "sigma12 = 0.3\n",
    "\n",
    "mu21 = 7\n",
    "mu22 = 8\n",
    "sigma21 = 0.7\n",
    "sigma22 = 1\n",
    "\n",
    "T = 4\n",
    "pHat = np.zeros((K,T))\n",
    "pHat[0,0]=0.1 \n",
    "pHat[0,1]=0.2 \n",
    "pHat[0,2]=0.5 \n",
    "pHat[0,3]=1-(pHat[0,0]+pHat[0,1]+pHat[0,2]) \n",
    "pHat[1,0]=0.3 \n",
    "pHat[1,1]=0.1 \n",
    "pHat[1,2]=0.2 \n",
    "pHat[1,3]=1-(pHat[1,0]+pHat[1,1]+pHat[1,2])     \n",
    "\n",
    "priori_2 = 0.3\n",
    "\n",
    "\n",
    "# Génération de la base d'apprentissage :\n",
    "\n",
    "nTrain = 100\n",
    "YTrain = np.zeros((nTrain,1))\n",
    "XTrain = np.zeros((nTrain,3))\n",
    "\n",
    "for i in range(0,nTrain):\n",
    "    YTrain[i,0] = int(np.random.binomial(1, priori_2, 1) + 1)\n",
    "    if YTrain[i,0]==1:\n",
    "        XTrain[i,0] = np.random.normal(mu11, sigma11, 1)\n",
    "        XTrain[i,1] = np.random.normal(mu21, sigma21, 1)\n",
    "        XTrain[i,2] = np.random.choice(T, 1, p=pHat[0]) \n",
    "    if YTrain[i,0]==2:\n",
    "        XTrain[i,0] = np.random.normal(mu12, sigma12, 1)\n",
    "        XTrain[i,1] = np.random.normal(mu22, sigma22, 1)\n",
    "        XTrain[i,2] = np.random.choice(T, 1, p=pHat[1])\n",
    "    \n",
    "\n",
    "# Génération de la base de test :\n",
    "    \n",
    "nTest= 900\n",
    "YTest = np.zeros((nTest,1))\n",
    "XTest = np.zeros((nTest,3))\n",
    "\n",
    "for i in range(0,nTest):\n",
    "    YTest[i,0] = int(np.random.binomial(1, priori_2, 1) + 1)\n",
    "    if YTest[i,0]==1:\n",
    "        XTest[i,0] = np.random.normal(mu11, sigma11, 1)\n",
    "        XTest[i,1] = np.random.normal(mu21, sigma21, 1)\n",
    "        XTest[i,2] = np.random.choice(T, 1, p=pHat[0]) \n",
    "    if YTest[i,0]==2:\n",
    "        XTest[i,0] = np.random.normal(mu12, sigma12, 1)\n",
    "        XTest[i,1] = np.random.normal(mu22, sigma22, 1)\n",
    "        XTest[i,2] = np.random.choice(T, 1, p=pHat[1])\n",
    "        \n",
    "\n"
   ]
  },
  {
   "cell_type": "markdown",
   "metadata": {},
   "source": [
    "**Question 3.1.** Estimer sur la base d'apprentissage les paramètres introduits dans la section 2, pour chaque variable indépendamment, à partir des trois fonctions implémentées lors des questions 2.1 et 2.2."
   ]
  },
  {
   "cell_type": "code",
   "execution_count": 5,
   "metadata": {},
   "outputs": [],
   "source": [
    "# RÉPONSE À LA QUESTION 3.1 :\n",
    "\n",
    "# .... À COMPLETER. ..."
   ]
  },
  {
   "cell_type": "markdown",
   "metadata": {},
   "source": [
    "**Question 3.2.** Appliquer le classifieur de Bayes Naïf sur les observations de la base de test et calculer le taux d'erreur global de ce classifieur."
   ]
  },
  {
   "cell_type": "code",
   "execution_count": 6,
   "metadata": {},
   "outputs": [],
   "source": [
    "# RÉPONSE À LA QUESTION 3.2 :\n",
    "\n",
    "# .... À COMPLETER. ..."
   ]
  },
  {
   "cell_type": "code",
   "execution_count": null,
   "metadata": {},
   "outputs": [],
   "source": []
  },
  {
   "cell_type": "markdown",
   "metadata": {},
   "source": [
    "# 4. Exercice complémentaire"
   ]
  },
  {
   "cell_type": "markdown",
   "metadata": {},
   "source": [
    "On considère la base de données d'apprentissage suivante où les observations $A,\\dots,J$ sont décrites par 2 variables catégorielles $\\{X_1,X_2\\}$. Chaque observation appartient à une classe $k\\in\\{1,2\\}$ (notre variable d'intérêt).\n",
    "- La variable $X_1$ peut prendre deux valeurs possible : $X_1\\in\\{1,2\\}$.\n",
    "- La variable $X_2$ peut prendre trois valeurs possible : $X_2\\in\\{1,2,3\\}$.\n",
    "\n",
    "| Observation | Variable $X_1$ | Variable $X_2$ | Classe $Y$ |\n",
    "| --- | --- | --- | --- |\n",
    "| A\t| 1\t| 2\t| 1 |\n",
    "| B\t| 2\t| 3\t| 2 |\n",
    "| C\t| 2\t| 1\t| 1 |\n",
    "| D\t| 2\t| 3\t| 2 |\n",
    "| E\t| 1\t| 1\t| 1 |\n",
    "| F\t| 1\t| 2\t| 2 |\n",
    "| G\t| 1\t| 1\t| 1 |\n",
    "| H\t| 1\t| 3\t| 1 |\n",
    "| I\t| 2\t| 1\t| 1 |\n",
    "| J\t| 2\t| 2\t| 2 |\n",
    "\n",
    "L'objectif de cet exercice est d'apprendre le classifieur de Bayes Naïf (par calculs sur papier) pour diagnostiquer la classe des observations test $K,L,M$ suivantes (on suppose que les classes réelles de ces observations test sont inconnues et on souhaite les retrouver grâce au classifieur de Bayes Naïf).\n",
    "\n",
    "| Observation | Variable $X_1$ | Variable $X_2$ | Classe $Y$ |\n",
    "| --- | --- | --- | --- |\n",
    "| K\t| 2\t| 3\t| 2 |\n",
    "| L\t| 1\t| 2\t| 2 |\n",
    "| M\t| 1\t| 3\t| 1 |\n",
    "\n",
    "À partir de vos estimations, calculer le taux d'erreur sur les 3 observations test en comparant vos résultats avec les classes réelles."
   ]
  },
  {
   "cell_type": "code",
   "execution_count": null,
   "metadata": {},
   "outputs": [],
   "source": []
  }
 ],
 "metadata": {
  "kernelspec": {
   "display_name": "Python 3 (ipykernel)",
   "language": "python",
   "name": "python3"
  },
  "language_info": {
   "codemirror_mode": {
    "name": "ipython",
    "version": 3
   },
   "file_extension": ".py",
   "mimetype": "text/x-python",
   "name": "python",
   "nbconvert_exporter": "python",
   "pygments_lexer": "ipython3",
   "version": "3.12.2"
  }
 },
 "nbformat": 4,
 "nbformat_minor": 4
}
