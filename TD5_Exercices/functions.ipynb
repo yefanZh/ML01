{
 "cells": [
  {
   "cell_type": "markdown",
   "metadata": {},
   "source": [
    "# ML01 : Fonctions - Performances d'un classifieur"
   ]
  },
  {
   "cell_type": "code",
   "execution_count": 8,
   "metadata": {},
   "outputs": [],
   "source": [
    "import matplotlib.pyplot as plt\n",
    "import numpy as np\n",
    "import pandas as pd"
   ]
  },
  {
   "cell_type": "code",
   "execution_count": 9,
   "metadata": {},
   "outputs": [],
   "source": [
    "def compute_risk_per_class(YR, Yhat, K, L): \n",
    "    '''\n",
    "    Parameters\n",
    "    ----------\n",
    "    YR : DataFrame\n",
    "        Real labels.\n",
    "    Yhat : Array\n",
    "        Predicted labels.\n",
    "    K : int\n",
    "        Number of classes.\n",
    "    L : Array\n",
    "        Loss Function.\n",
    "\n",
    "    Returns\n",
    "    -------\n",
    "    R : Array of floats\n",
    "        Conditional risks.\n",
    "    '''\n",
    "   \n",
    "    R = np.zeros(K)\n",
    "\n",
    "    for k in range(K):\n",
    "        Ik = np.where(YR == (k+1))\n",
    "        if len(Ik[0]) > 0:  # 确保索引不为空\n",
    "            # 计算损失并求和\n",
    "            losses = L[YR[Ik] - 1, Yhat[Ik] - 1]\n",
    "            R[k] = np.sum(losses) / len(Ik[0])\n",
    "    \n",
    "    return R"
   ]
  },
  {
   "cell_type": "code",
   "execution_count": 10,
   "metadata": {},
   "outputs": [],
   "source": [
    "def compute_average_risk(YR, Yhat, K, L):\n",
    "    '''\n",
    "    Parameters\n",
    "    ----------\n",
    "    YR : DataFrame\n",
    "        Real labels.\n",
    "    Yhat : Array\n",
    "        Predicted labels.\n",
    "    K : int\n",
    "        Number of classes.\n",
    "    L : Array\n",
    "        Loss Function.\n",
    "\n",
    "    Returns\n",
    "    -------\n",
    "    r : float\n",
    "        Global risk.\n",
    "    '''\n",
    "    \n",
    "    \n",
    "    # À compléter...\n",
    "    \n",
    "    return r"
   ]
  },
  {
   "cell_type": "code",
   "execution_count": 11,
   "metadata": {},
   "outputs": [],
   "source": [
    "def compute_accuracy(YR, Yhat):\n",
    "    '''\n",
    "    Parameters\n",
    "    ----------\n",
    "    YR : DataFrame\n",
    "        Real labels.\n",
    "    Yhat : Array\n",
    "        Predicted labels.\n",
    "\n",
    "    Returns\n",
    "    -------\n",
    "    Acc : float\n",
    "        Accuracy.\n",
    "    '''\n",
    "\n",
    "    n = YR.shape[0]\n",
    "    Acc = np.sum(Yhat==YR)/n\n",
    "    \n",
    "    # À compléter...\n",
    "    \n",
    "    return Acc"
   ]
  },
  {
   "cell_type": "code",
   "execution_count": 12,
   "metadata": {},
   "outputs": [],
   "source": [
    "def compute_accuracy_per_class(YR, Yhat, K):\n",
    "    '''\n",
    "    Parameters\n",
    "    ----------\n",
    "    YR : DataFrame\n",
    "        Real labels.\n",
    "    Yhat : Array\n",
    "        Predicted labels.\n",
    "    K : int\n",
    "        Number of classes.\n",
    "\n",
    "    Returns\n",
    "    -------\n",
    "    Acc_per_class : Array\n",
    "        Accuracies per class\n",
    "    '''\n",
    "    \n",
    "    Acc_per_class = np.zeros(K)\n",
    "    \n",
    "    # À compléter...\n",
    "\n",
    "    Acc_per_class = np.zeros(K)\n",
    "\n",
    "    for k in range(K):\n",
    "        nk = np.sum(YR == (k+1))\n",
    "        if nk > 0:\n",
    "            Ik = np.where(YR == (k+1))\n",
    "            Acc_per_class[k] = np.sum(Yhat[Ik] == k+1) / nk\n",
    "    \n",
    "    return Acc_per_class"
   ]
  },
  {
   "cell_type": "code",
   "execution_count": 13,
   "metadata": {},
   "outputs": [],
   "source": [
    "def compute_confusion_matrix(YR, Yhat, K):\n",
    "    '''\n",
    "    Parameters\n",
    "    ----------\n",
    "    YR : DataFrame\n",
    "        Real labels.\n",
    "    Yhat : Array\n",
    "        Predicted labels.\n",
    "    K : int\n",
    "        Number of classes.\n",
    "\n",
    "    Returns\n",
    "    -------\n",
    "    confmat : Array\n",
    "        Confusio Matrix\n",
    "    '''\n",
    "    \n",
    "    # À compléter...\n",
    "    \n",
    "    return confmat"
   ]
  },
  {
   "cell_type": "code",
   "execution_count": 14,
   "metadata": {},
   "outputs": [
    {
     "name": "stdout",
     "output_type": "stream",
     "text": [
      "YR =  [1 2 1 3 3 1 1 2]\n",
      "Yhat =  [1 1 1 2 3 3 1 2]\n",
      "L =  [[0. 1. 4.]\n",
      " [1. 0. 1.]\n",
      " [4. 1. 0.]]\n"
     ]
    }
   ],
   "source": [
    "K = 3\n",
    "YR = np.array([1, 2, 1, 3, 3, 1, 1, 2])\n",
    "Yhat = np.array([1, 1, 1, 2, 3, 3, 1, 2])\n",
    "print('YR = ', YR)\n",
    "print('Yhat = ', Yhat)\n",
    "\n",
    "L = np.zeros((K, K))\n",
    "for k in range(K):\n",
    "    for l in range(K):\n",
    "        L[k, l] = (l-k) * (l-k)\n",
    "print('L = ', L)"
   ]
  }
 ],
 "metadata": {
  "kernelspec": {
   "display_name": "ML01",
   "language": "python",
   "name": "python3"
  },
  "language_info": {
   "codemirror_mode": {
    "name": "ipython",
    "version": 3
   },
   "file_extension": ".py",
   "mimetype": "text/x-python",
   "name": "python",
   "nbconvert_exporter": "python",
   "pygments_lexer": "ipython3",
   "version": "3.12.2"
  }
 },
 "nbformat": 4,
 "nbformat_minor": 4
}
