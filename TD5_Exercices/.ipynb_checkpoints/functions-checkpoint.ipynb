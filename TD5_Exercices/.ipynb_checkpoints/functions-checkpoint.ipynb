{
 "cells": [
  {
   "cell_type": "markdown",
   "metadata": {},
   "source": [
    "# ML01 : Fonctions - Performances d'un classifieur"
   ]
  },
  {
   "cell_type": "code",
   "execution_count": 1,
   "metadata": {},
   "outputs": [],
   "source": [
    "import matplotlib.pyplot as plt\n",
    "import numpy as np\n",
    "import pandas as pd"
   ]
  },
  {
   "cell_type": "code",
   "execution_count": 2,
   "metadata": {},
   "outputs": [],
   "source": [
    "def compute_risk_per_class(YR, Yhat, K, L): \n",
    "    '''\n",
    "    Parameters\n",
    "    ----------\n",
    "    YR : DataFrame\n",
    "        Real labels.\n",
    "    Yhat : Array\n",
    "        Predicted labels.\n",
    "    K : int\n",
    "        Number of classes.\n",
    "    L : Array\n",
    "        Loss Function.\n",
    "\n",
    "    Returns\n",
    "    -------\n",
    "    R : Array of floats\n",
    "        Conditional risks.\n",
    "    '''\n",
    "   \n",
    "    R = np.zeros(K)\n",
    "    \n",
    "    # À compléter...\n",
    "    \n",
    "    return R"
   ]
  },
  {
   "cell_type": "code",
   "execution_count": 3,
   "metadata": {},
   "outputs": [],
   "source": [
    "def compute_average_risk(YR, Yhat, K, L):\n",
    "    '''\n",
    "    Parameters\n",
    "    ----------\n",
    "    YR : DataFrame\n",
    "        Real labels.\n",
    "    Yhat : Array\n",
    "        Predicted labels.\n",
    "    K : int\n",
    "        Number of classes.\n",
    "    L : Array\n",
    "        Loss Function.\n",
    "\n",
    "    Returns\n",
    "    -------\n",
    "    r : float\n",
    "        Global risk.\n",
    "    '''\n",
    "    \n",
    "    \n",
    "    # À compléter...\n",
    "    \n",
    "    return r"
   ]
  },
  {
   "cell_type": "code",
   "execution_count": 4,
   "metadata": {},
   "outputs": [],
   "source": [
    "def compute_accuracy(YR, Yhat):\n",
    "    '''\n",
    "    Parameters\n",
    "    ----------\n",
    "    YR : DataFrame\n",
    "        Real labels.\n",
    "    Yhat : Array\n",
    "        Predicted labels.\n",
    "\n",
    "    Returns\n",
    "    -------\n",
    "    Acc : float\n",
    "        Accuracy.\n",
    "    '''\n",
    "    \n",
    "    \n",
    "    # À compléter...\n",
    "    \n",
    "    return Acc"
   ]
  },
  {
   "cell_type": "code",
   "execution_count": 5,
   "metadata": {},
   "outputs": [],
   "source": [
    "def compute_accuracy_per_class(YR, Yhat, K):\n",
    "    '''\n",
    "    Parameters\n",
    "    ----------\n",
    "    YR : DataFrame\n",
    "        Real labels.\n",
    "    Yhat : Array\n",
    "        Predicted labels.\n",
    "    K : int\n",
    "        Number of classes.\n",
    "\n",
    "    Returns\n",
    "    -------\n",
    "    Acc_per_class : Array\n",
    "        Accuracies per class\n",
    "    '''\n",
    "    \n",
    "    Acc_per_class = np.zeros(K)\n",
    "    \n",
    "    # À compléter...\n",
    "    \n",
    "    return Acc_per_class"
   ]
  },
  {
   "cell_type": "code",
   "execution_count": 6,
   "metadata": {},
   "outputs": [],
   "source": [
    "def compute_confusion_matrix(YR, Yhat, K):\n",
    "    '''\n",
    "    Parameters\n",
    "    ----------\n",
    "    YR : DataFrame\n",
    "        Real labels.\n",
    "    Yhat : Array\n",
    "        Predicted labels.\n",
    "    K : int\n",
    "        Number of classes.\n",
    "\n",
    "    Returns\n",
    "    -------\n",
    "    confmat : Array\n",
    "        Confusio Matrix\n",
    "    '''\n",
    "    \n",
    "    # À compléter...\n",
    "    \n",
    "    return confmat"
   ]
  },
  {
   "cell_type": "code",
   "execution_count": null,
   "metadata": {},
   "outputs": [],
   "source": []
  }
 ],
 "metadata": {
  "kernelspec": {
   "display_name": "Python 3",
   "language": "python",
   "name": "python3"
  },
  "language_info": {
   "codemirror_mode": {
    "name": "ipython",
    "version": 3
   },
   "file_extension": ".py",
   "mimetype": "text/x-python",
   "name": "python",
   "nbconvert_exporter": "python",
   "pygments_lexer": "ipython3",
   "version": "3.7.6"
  }
 },
 "nbformat": 4,
 "nbformat_minor": 4
}
