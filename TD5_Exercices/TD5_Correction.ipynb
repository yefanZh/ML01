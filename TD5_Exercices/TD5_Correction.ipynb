{
 "cells": [
  {
   "cell_type": "markdown",
   "metadata": {},
   "source": [
    "# ML01 : TD5 - Performance d'un modèle et Validation-Croisée\n",
    "\n",
    "Réalisé par Cyprien Gilet et Khaled Belahcene"
   ]
  },
  {
   "cell_type": "code",
   "execution_count": 9,
   "metadata": {},
   "outputs": [],
   "source": [
    "import numpy as np\n",
    "import pandas as pd\n",
    "import matplotlib.pyplot as plt\n",
    "from sklearn import datasets\n",
    "import scipy.stats as stats\n",
    "\n",
    "from sklearn.model_selection import KFold\n",
    "from sklearn.neighbors import KNeighborsClassifier"
   ]
  },
  {
   "cell_type": "markdown",
   "metadata": {},
   "source": [
    "# 1. Implémentation fonctions d'évaluation des performances d'un classifieur\n",
    "\n",
    "**Question 1.** Dans le fichier *functions.ipynb*, implémenter les différentes fonctions permettant d'évaluer la performance d'un classifieur $\\delta\\in\\Delta$ :\n",
    "- Risques d'erreur empirique par classe $\\hat{R}_k(\\delta)$ en fonction d'une fonction de perte $L$ quelconque.\n",
    "- Risque d'erreur empirique moyen $\\hat{r}(\\delta)$ en fonction d'une fonction de perte $L$ quelconque.\n",
    "- Accuracy moyenne $\\mathrm{Acc}(\\delta)$.\n",
    "- Accuraces par classe $\\mathrm{Acc}_k(\\delta)$.\n",
    "- Matrice de confusion $C(\\delta)$.\n",
    "\n",
    "Le code ci-dessous permet d'importer ces fonctions dans ce Notebook présent."
   ]
  },
  {
   "cell_type": "code",
   "execution_count": 1,
   "metadata": {},
   "outputs": [
    {
     "ename": "ModuleNotFoundError",
     "evalue": "No module named 'nbformat'",
     "output_type": "error",
     "traceback": [
      "\u001b[0;31m---------------------------------------------------------------------------\u001b[0m",
      "\u001b[0;31mModuleNotFoundError\u001b[0m                       Traceback (most recent call last)",
      "Cell \u001b[0;32mIn[1], line 1\u001b[0m\n\u001b[0;32m----> 1\u001b[0m \u001b[43mget_ipython\u001b[49m\u001b[43m(\u001b[49m\u001b[43m)\u001b[49m\u001b[38;5;241;43m.\u001b[39;49m\u001b[43mrun_line_magic\u001b[49m\u001b[43m(\u001b[49m\u001b[38;5;124;43m'\u001b[39;49m\u001b[38;5;124;43mrun\u001b[39;49m\u001b[38;5;124;43m'\u001b[39;49m\u001b[43m,\u001b[49m\u001b[43m \u001b[49m\u001b[38;5;124;43m'\u001b[39;49m\u001b[38;5;124;43mfunctions.ipynb\u001b[39;49m\u001b[38;5;124;43m'\u001b[39;49m\u001b[43m)\u001b[49m\n",
      "File \u001b[0;32m/opt/anaconda3/envs/ML01/lib/python3.12/site-packages/IPython/core/interactiveshell.py:2480\u001b[0m, in \u001b[0;36mInteractiveShell.run_line_magic\u001b[0;34m(self, magic_name, line, _stack_depth)\u001b[0m\n\u001b[1;32m   2478\u001b[0m     kwargs[\u001b[38;5;124m'\u001b[39m\u001b[38;5;124mlocal_ns\u001b[39m\u001b[38;5;124m'\u001b[39m] \u001b[38;5;241m=\u001b[39m \u001b[38;5;28mself\u001b[39m\u001b[38;5;241m.\u001b[39mget_local_scope(stack_depth)\n\u001b[1;32m   2479\u001b[0m \u001b[38;5;28;01mwith\u001b[39;00m \u001b[38;5;28mself\u001b[39m\u001b[38;5;241m.\u001b[39mbuiltin_trap:\n\u001b[0;32m-> 2480\u001b[0m     result \u001b[38;5;241m=\u001b[39m \u001b[43mfn\u001b[49m\u001b[43m(\u001b[49m\u001b[38;5;241;43m*\u001b[39;49m\u001b[43margs\u001b[49m\u001b[43m,\u001b[49m\u001b[43m \u001b[49m\u001b[38;5;241;43m*\u001b[39;49m\u001b[38;5;241;43m*\u001b[39;49m\u001b[43mkwargs\u001b[49m\u001b[43m)\u001b[49m\n\u001b[1;32m   2482\u001b[0m \u001b[38;5;66;03m# The code below prevents the output from being displayed\u001b[39;00m\n\u001b[1;32m   2483\u001b[0m \u001b[38;5;66;03m# when using magics with decorator @output_can_be_silenced\u001b[39;00m\n\u001b[1;32m   2484\u001b[0m \u001b[38;5;66;03m# when the last Python token in the expression is a ';'.\u001b[39;00m\n\u001b[1;32m   2485\u001b[0m \u001b[38;5;28;01mif\u001b[39;00m \u001b[38;5;28mgetattr\u001b[39m(fn, magic\u001b[38;5;241m.\u001b[39mMAGIC_OUTPUT_CAN_BE_SILENCED, \u001b[38;5;28;01mFalse\u001b[39;00m):\n",
      "File \u001b[0;32m/opt/anaconda3/envs/ML01/lib/python3.12/site-packages/IPython/core/magics/execution.py:737\u001b[0m, in \u001b[0;36mExecutionMagics.run\u001b[0;34m(self, parameter_s, runner, file_finder)\u001b[0m\n\u001b[1;32m    735\u001b[0m     \u001b[38;5;28;01mwith\u001b[39;00m preserve_keys(\u001b[38;5;28mself\u001b[39m\u001b[38;5;241m.\u001b[39mshell\u001b[38;5;241m.\u001b[39muser_ns, \u001b[38;5;124m'\u001b[39m\u001b[38;5;124m__file__\u001b[39m\u001b[38;5;124m'\u001b[39m):\n\u001b[1;32m    736\u001b[0m         \u001b[38;5;28mself\u001b[39m\u001b[38;5;241m.\u001b[39mshell\u001b[38;5;241m.\u001b[39muser_ns[\u001b[38;5;124m'\u001b[39m\u001b[38;5;124m__file__\u001b[39m\u001b[38;5;124m'\u001b[39m] \u001b[38;5;241m=\u001b[39m filename\n\u001b[0;32m--> 737\u001b[0m         \u001b[38;5;28;43mself\u001b[39;49m\u001b[38;5;241;43m.\u001b[39;49m\u001b[43mshell\u001b[49m\u001b[38;5;241;43m.\u001b[39;49m\u001b[43msafe_execfile_ipy\u001b[49m\u001b[43m(\u001b[49m\u001b[43mfilename\u001b[49m\u001b[43m,\u001b[49m\u001b[43m \u001b[49m\u001b[43mraise_exceptions\u001b[49m\u001b[38;5;241;43m=\u001b[39;49m\u001b[38;5;28;43;01mTrue\u001b[39;49;00m\u001b[43m)\u001b[49m\n\u001b[1;32m    738\u001b[0m     \u001b[38;5;28;01mreturn\u001b[39;00m\n\u001b[1;32m    740\u001b[0m \u001b[38;5;66;03m# Control the response to exit() calls made by the script being run\u001b[39;00m\n",
      "File \u001b[0;32m/opt/anaconda3/envs/ML01/lib/python3.12/site-packages/IPython/core/interactiveshell.py:3002\u001b[0m, in \u001b[0;36mInteractiveShell.safe_execfile_ipy\u001b[0;34m(self, fname, shell_futures, raise_exceptions)\u001b[0m\n\u001b[1;32m   3000\u001b[0m \u001b[38;5;28;01mwith\u001b[39;00m prepended_to_syspath(dname):\n\u001b[1;32m   3001\u001b[0m     \u001b[38;5;28;01mtry\u001b[39;00m:\n\u001b[0;32m-> 3002\u001b[0m \u001b[43m        \u001b[49m\u001b[38;5;28;43;01mfor\u001b[39;49;00m\u001b[43m \u001b[49m\u001b[43mcell\u001b[49m\u001b[43m \u001b[49m\u001b[38;5;129;43;01min\u001b[39;49;00m\u001b[43m \u001b[49m\u001b[43mget_cells\u001b[49m\u001b[43m(\u001b[49m\u001b[43m)\u001b[49m\u001b[43m:\u001b[49m\n\u001b[1;32m   3003\u001b[0m \u001b[43m            \u001b[49m\u001b[43mresult\u001b[49m\u001b[43m \u001b[49m\u001b[38;5;241;43m=\u001b[39;49m\u001b[43m \u001b[49m\u001b[38;5;28;43mself\u001b[39;49m\u001b[38;5;241;43m.\u001b[39;49m\u001b[43mrun_cell\u001b[49m\u001b[43m(\u001b[49m\u001b[43mcell\u001b[49m\u001b[43m,\u001b[49m\u001b[43m \u001b[49m\u001b[43msilent\u001b[49m\u001b[38;5;241;43m=\u001b[39;49m\u001b[38;5;28;43;01mTrue\u001b[39;49;00m\u001b[43m,\u001b[49m\u001b[43m \u001b[49m\u001b[43mshell_futures\u001b[49m\u001b[38;5;241;43m=\u001b[39;49m\u001b[43mshell_futures\u001b[49m\u001b[43m)\u001b[49m\n\u001b[1;32m   3004\u001b[0m \u001b[43m            \u001b[49m\u001b[38;5;28;43;01mif\u001b[39;49;00m\u001b[43m \u001b[49m\u001b[43mraise_exceptions\u001b[49m\u001b[43m:\u001b[49m\n",
      "File \u001b[0;32m/opt/anaconda3/envs/ML01/lib/python3.12/site-packages/IPython/core/interactiveshell.py:2990\u001b[0m, in \u001b[0;36mInteractiveShell.safe_execfile_ipy.<locals>.get_cells\u001b[0;34m()\u001b[0m\n\u001b[1;32m   2988\u001b[0m \u001b[38;5;250m\u001b[39m\u001b[38;5;124;03m\"\"\"generator for sequence of code blocks to run\"\"\"\u001b[39;00m\n\u001b[1;32m   2989\u001b[0m \u001b[38;5;28;01mif\u001b[39;00m fname\u001b[38;5;241m.\u001b[39msuffix \u001b[38;5;241m==\u001b[39m \u001b[38;5;124m\"\u001b[39m\u001b[38;5;124m.ipynb\u001b[39m\u001b[38;5;124m\"\u001b[39m:\n\u001b[0;32m-> 2990\u001b[0m     \u001b[38;5;28;01mfrom\u001b[39;00m \u001b[38;5;21;01mnbformat\u001b[39;00m \u001b[38;5;28;01mimport\u001b[39;00m read\n\u001b[1;32m   2991\u001b[0m     nb \u001b[38;5;241m=\u001b[39m read(fname, as_version\u001b[38;5;241m=\u001b[39m\u001b[38;5;241m4\u001b[39m)\n\u001b[1;32m   2992\u001b[0m     \u001b[38;5;28;01mif\u001b[39;00m \u001b[38;5;129;01mnot\u001b[39;00m nb\u001b[38;5;241m.\u001b[39mcells:\n",
      "\u001b[0;31mModuleNotFoundError\u001b[0m: No module named 'nbformat'"
     ]
    }
   ],
   "source": [
    "run functions.ipynb"
   ]
  },
  {
   "cell_type": "markdown",
   "metadata": {},
   "source": [
    "# 2. Validation croisée KNN sur base de données Diabete_UCI\n",
    "\n",
    "Dans cette section nous souhaitons appentre le classifieur KNN à partir d'une validation croisée sur la base de données Diabete UCI. Nous considèrerons la fonction de perte $L_{0\\text{-}1}$."
   ]
  },
  {
   "cell_type": "code",
   "execution_count": 56,
   "metadata": {},
   "outputs": [
    {
     "name": "stdout",
     "output_type": "stream",
     "text": [
      "['Pregnancies' 'Glucose' 'BloodPressure' 'SkinThickness' 'Insulin' 'BMI'\n",
      " 'DiabetesPedigreeFunction' 'Age' 'Outcome']\n",
      "df =      Pregnancies  Glucose  BloodPressure  SkinThickness  Insulin   BMI  \\\n",
      "0              6      148             72             35        0  33.6   \n",
      "1              1       85             66             29        0  26.6   \n",
      "2              8      183             64              0        0  23.3   \n",
      "3              1       89             66             23       94  28.1   \n",
      "4              0      137             40             35      168  43.1   \n",
      "..           ...      ...            ...            ...      ...   ...   \n",
      "763           10      101             76             48      180  32.9   \n",
      "764            2      122             70             27        0  36.8   \n",
      "765            5      121             72             23      112  26.2   \n",
      "766            1      126             60              0        0  30.1   \n",
      "767            1       93             70             31        0  30.4   \n",
      "\n",
      "     DiabetesPedigreeFunction  Age  Outcome  \n",
      "0                       0.627   50        1  \n",
      "1                       0.351   31        0  \n",
      "2                       0.672   32        1  \n",
      "3                       0.167   21        0  \n",
      "4                       2.288   33        1  \n",
      "..                        ...  ...      ...  \n",
      "763                     0.171   63        0  \n",
      "764                     0.340   27        0  \n",
      "765                     0.245   30        0  \n",
      "766                     0.349   47        1  \n",
      "767                     0.315   23        0  \n",
      "\n",
      "[768 rows x 9 columns]\n",
      "<class 'pandas.core.frame.DataFrame'>\n",
      "RangeIndex: 768 entries, 0 to 767\n",
      "Data columns (total 9 columns):\n",
      " #   Column                    Non-Null Count  Dtype  \n",
      "---  ------                    --------------  -----  \n",
      " 0   Pregnancies               768 non-null    int64  \n",
      " 1   Glucose                   768 non-null    int64  \n",
      " 2   BloodPressure             768 non-null    int64  \n",
      " 3   SkinThickness             768 non-null    int64  \n",
      " 4   Insulin                   768 non-null    int64  \n",
      " 5   BMI                       768 non-null    float64\n",
      " 6   DiabetesPedigreeFunction  768 non-null    float64\n",
      " 7   Age                       768 non-null    int64  \n",
      " 8   Outcome                   768 non-null    int64  \n",
      "dtypes: float64(2), int64(7)\n",
      "memory usage: 54.1 KB\n",
      "df_Info = None\n"
     ]
    }
   ],
   "source": [
    "df = pd.read_csv('Datasets/diabetes_UCI.csv')\n",
    "print(df.columns.values)\n",
    "print('df =', df)\n",
    "print('df_Info =', df.info())\n",
    "\n",
    "df = df.reset_index()\n",
    "df.drop(['index'], axis='columns', inplace=True)"
   ]
  },
  {
   "cell_type": "code",
   "execution_count": 51,
   "metadata": {},
   "outputs": [
    {
     "name": "stdout",
     "output_type": "stream",
     "text": [
      "np.unique(YRdf) = [0 1]\n",
      "np.unique(YR) = [1 2]\n"
     ]
    }
   ],
   "source": [
    "# 从原始数据中提取出特征和标签，即从df中提取名为Outcome的列\n",
    "YRdf = pd.DataFrame(df['Outcome'])\n",
    "print('np.unique(YRdf) =', np.unique(YRdf))\n",
    "YR = np.array(YRdf).ravel()+1\n",
    "print('np.unique(YR) =', np.unique(YR))\n",
    "\n",
    "Xdf = df.copy()\n",
    "Xdf.drop(['Outcome'], axis='columns', inplace=True)\n",
    "#Xdf.info()\n",
    "\n",
    "K = int(np.max(YR))\n",
    "X = np.array(Xdf)\n"
   ]
  },
  {
   "cell_type": "markdown",
   "metadata": {},
   "source": [
    "**Question 2.1.** Implémenter la fonction de perte $L_{0\\text{-}1}$."
   ]
  },
  {
   "cell_type": "code",
   "execution_count": 73,
   "metadata": {},
   "outputs": [],
   "source": [
    "# RÉPONSE À LA QUESTION 2.1:\n",
    "L = np.ones((K,K)) - np.eye(K)"
   ]
  },
  {
   "cell_type": "markdown",
   "metadata": {},
   "source": [
    "**Question 2.2.** Créer une procédure de validation croisée permettant selectionner le nombre de voisins optimal de sorte à ce que l'on obtenienne une erreur de généralisation satisfaisante."
   ]
  },
  {
   "cell_type": "code",
   "execution_count": 89,
   "metadata": {},
   "outputs": [
    {
     "name": "stdout",
     "output_type": "stream",
     "text": [
      "processing fold f = 0\n",
      "    KNN -> kn = 1\n",
      "    KNN -> kn = 10\n",
      "    KNN -> kn = 20\n",
      "    KNN -> kn = 30\n",
      "    KNN -> kn = 40\n",
      "    KNN -> kn = 50\n",
      "    KNN -> kn = 100\n",
      "processing fold f = 1\n",
      "    KNN -> kn = 1\n",
      "    KNN -> kn = 10\n",
      "    KNN -> kn = 20\n",
      "    KNN -> kn = 30\n",
      "    KNN -> kn = 40\n",
      "    KNN -> kn = 50\n",
      "    KNN -> kn = 100\n",
      "processing fold f = 2\n",
      "    KNN -> kn = 1\n",
      "    KNN -> kn = 10\n",
      "    KNN -> kn = 20\n",
      "    KNN -> kn = 30\n",
      "    KNN -> kn = 40\n",
      "    KNN -> kn = 50\n",
      "    KNN -> kn = 100\n",
      "processing fold f = 3\n",
      "    KNN -> kn = 1\n",
      "    KNN -> kn = 10\n",
      "    KNN -> kn = 20\n",
      "    KNN -> kn = 30\n",
      "    KNN -> kn = 40\n",
      "    KNN -> kn = 50\n",
      "    KNN -> kn = 100\n",
      "processing fold f = 4\n",
      "    KNN -> kn = 1\n",
      "    KNN -> kn = 10\n",
      "    KNN -> kn = 20\n",
      "    KNN -> kn = 30\n",
      "    KNN -> kn = 40\n",
      "    KNN -> kn = 50\n",
      "    KNN -> kn = 100\n"
     ]
    },
    {
     "data": {
      "image/png": "[encoded data removed]",
      "text/plain": [
       "<Figure size 432x432 with 1 Axes>"
      ]
     },
     "metadata": {
      "needs_background": "light"
     },
     "output_type": "display_data"
    }
   ],
   "source": [
    "# RÉPONSE À LA QUESTION 2.2:\n",
    "np.random.seed(407)\n",
    "\n",
    "nbFolds = 5\n",
    "kf = KFold(n_splits=nbFolds, shuffle=True)\n",
    "kfSplit = kf.split(X)\n",
    "\n",
    "stock_kn = np.array([1, 10, 20, 30, 40, 50, 100])\n",
    "nb_kn = stock_kn.shape[0]\n",
    "stock_average_risk_Train = np.zeros((nbFolds,nb_kn))\n",
    "stock_average_risk_Val = np.zeros((nbFolds,nb_kn))\n",
    "\n",
    "f = 0\n",
    "t = 0\n",
    "\n",
    "for train, val in kfSplit:\n",
    "    \n",
    "    print(\"processing fold f =\", f) \n",
    "    \n",
    "    XTrain, XVal, YRTrain, YRVal = X[train,:], X[val,:], YR[train], YR[val]\n",
    "    \n",
    "    for kn in stock_kn:\n",
    "        ### KNN \n",
    "        print(\"    KNN -> kn =\", kn)\n",
    "        model_KNN = KNeighborsClassifier(n_neighbors=kn, metric='euclidean')\n",
    "        model_KNN.fit(XTrain, YRTrain.ravel())\n",
    "\n",
    "        # Prediction on the training samples\n",
    "        YhatTrainKNN = model_KNN.predict(XTrain)\n",
    "        stock_average_risk_Train[f,t] = compute_average_risk(YRTrain, YhatTrainKNN, K, L)\n",
    "\n",
    "        # Prediction on the testing samples\n",
    "        YhatValKNN = model_KNN.predict(XVal)\n",
    "        stock_average_risk_Val[f,t] = compute_average_risk(YRVal, YhatValKNN, K, L)\n",
    "        \n",
    "        t = t+1\n",
    "    \n",
    "    f = f+1\n",
    "    t = 0\n",
    "    \n",
    "    \n",
    "    \n",
    "# FiGURE RISQUE MOYEN VERSUS NOMBRE DE VOISINS :\n",
    "fig_select_kn = plt.figure(figsize=(6,6))\n",
    "ax1 = fig_select_kn.add_subplot(1,1,1)\n",
    "\n",
    "ax1.plot(stock_kn, np.mean(stock_average_risk_Train,0), color='blue', label='Training')\n",
    "ax1.plot(stock_kn, np.mean(stock_average_risk_Train,0)-np.std(stock_average_risk_Train,0), color='blue',ls='--')\n",
    "ax1.plot(stock_kn, np.mean(stock_average_risk_Train,0)+np.std(stock_average_risk_Train,0), color='blue',ls='--')\n",
    "\n",
    "ax1.plot(stock_kn, np.mean(stock_average_risk_Val,0), color='orange', label='Validation')\n",
    "ax1.plot(stock_kn, np.mean(stock_average_risk_Val,0)-np.std(stock_average_risk_Val,0), color='orange',ls='--')\n",
    "ax1.plot(stock_kn, np.mean(stock_average_risk_Val,0)+np.std(stock_average_risk_Val,0), color='orange',ls='--')\n",
    "ax1.legend(fontsize=20, loc='lower right')\n",
    "ax1.set_xlabel(\"Nombre de voisins\",fontsize=20)\n",
    "ax1.set_ylabel(\"Risque d'erreur empirique\",fontsize=20)\n",
    "ax1.set_title(\"Sélection du nombre de voisins optimal\",fontsize=20)\n",
    "ax1.tick_params(axis='x', labelsize=20)\n",
    "ax1.tick_params(axis='y', labelsize=20)\n",
    "ax1.set_xlim([np.min(stock_kn),np.max(stock_kn)])\n",
    "ax1.grid()\n",
    "#ax1.set_xscale('log')"
   ]
  },
  {
   "cell_type": "markdown",
   "metadata": {},
   "source": [
    "On choisit $k_n = 20$ voisins car c'est le paramètre pour lequel l'erreur d'apprentissage moyenne est à la fois minimale tout en garantissant une erreur de validation proche.\n",
    "\n",
    "Le code ci-dessous evalue toutes les performances du classifieur KNN avec 20 voisins lors d'une nouvelles validation croisée."
   ]
  },
  {
   "cell_type": "code",
   "execution_count": 96,
   "metadata": {},
   "outputs": [
    {
     "name": "stdout",
     "output_type": "stream",
     "text": [
      "processing fold f = 0\n",
      "processing fold f = 1\n",
      "processing fold f = 2\n",
      "processing fold f = 3\n",
      "processing fold f = 4\n"
     ]
    }
   ],
   "source": [
    "np.random.seed(407)\n",
    "\n",
    "nbFolds = 5\n",
    "kf = KFold(n_splits=nbFolds, shuffle=True)\n",
    "kfSplit = kf.split(X)\n",
    "\n",
    "stock_average_risk_Train = np.zeros(nbFolds)\n",
    "stock_average_risk_Val = np.zeros(nbFolds)\n",
    "\n",
    "stock_RiskPerClass_Train = np.zeros((nbFolds,K))\n",
    "stock_RiskPerClass_Val = np.zeros((nbFolds,K))\n",
    "\n",
    "stock_Accuracy_Train = np.zeros(nbFolds)\n",
    "stock_Accuracy_Val = np.zeros(nbFolds)\n",
    "\n",
    "stock_AccPerClass_Train = np.zeros((nbFolds,K))\n",
    "stock_AccPerClass_Val = np.zeros((nbFolds,K))\n",
    "\n",
    "stock_ConfMat_Train = np.zeros((nbFolds,K,K))\n",
    "stock_ConfMat_Val = np.zeros((nbFolds,K,K))\n",
    "\n",
    "\n",
    "f = 0\n",
    "kn = 20 # Nombre optimal de voisins\n",
    "\n",
    "for train, val in kfSplit:\n",
    "    \n",
    "    print(\"processing fold f =\", f) \n",
    "    \n",
    "    XTrain, XVal, YRTrain, YRVal = X[train,:], X[val,:], YR[train], YR[val]\n",
    "    \n",
    "    ### KNN \n",
    "    model_KNN = KNeighborsClassifier(n_neighbors=kn, metric='euclidean')\n",
    "    model_KNN.fit(XTrain, YRTrain.ravel())\n",
    "\n",
    "    # Evaluations on the training set\n",
    "    YhatTrainKNN = model_KNN.predict(XTrain)\n",
    "    stock_average_risk_Train[f] = compute_average_risk(YRTrain, YhatTrainKNN, K, L)\n",
    "    stock_RiskPerClass_Train[f,:] = compute_risk_per_class(YRTrain, YhatTrainKNN, K, L)\n",
    "    stock_Accuracy_Train[f] = compute_accuracy(YRTrain, YhatTrainKNN)\n",
    "    stock_AccPerClass_Train[f,:] = compute_accuracy_per_class(YRTrain, YhatTrainKNN, K)\n",
    "    stock_ConfMat_Train[f,:,:] = compute_confusion_matrix(YRTrain, YhatTrainKNN, K)\n",
    "\n",
    "    # Evaluations on the Validation set \n",
    "    YhatValKNN = model_KNN.predict(XVal)\n",
    "    stock_average_risk_Val[f] = compute_average_risk(YRVal, YhatValKNN, K, L)\n",
    "    stock_RiskPerClass_Val[f,:] = compute_risk_per_class(YRVal, YhatValKNN, K, L)\n",
    "    stock_Accuracy_Val[f] = compute_accuracy(YRVal, YhatValKNN)\n",
    "    stock_AccPerClass_Val[f,:] = compute_accuracy_per_class(YRVal, YhatValKNN, K)\n",
    "    stock_ConfMat_Val[f,:,:] = compute_confusion_matrix(YRVal, YhatValKNN, K)\n",
    "    \n",
    "    f = f+1\n",
    "\n",
    "    \n",
    "    "
   ]
  },
  {
   "cell_type": "code",
   "execution_count": 105,
   "metadata": {},
   "outputs": [
    {
     "name": "stdout",
     "output_type": "stream",
     "text": [
      "stock_average_risk_Train = [0.21498371 0.24267101 0.21986971 0.23252033 0.23252033]\n",
      "stock_average_risk_Val = [0.25974026 0.23376623 0.24025974 0.23529412 0.30065359]\n",
      "\n",
      "\n",
      "stock_RiskPerClass_Train = [[0.07848101 0.46118721]\n",
      " [0.07788945 0.5462963 ]\n",
      " [0.0879397  0.46296296]\n",
      " [0.0964467  0.47511312]\n",
      " [0.07228916 0.565     ]]\n",
      "stock_RiskPerClass_Val = [[0.16190476 0.46938776]\n",
      " [0.09803922 0.5       ]\n",
      " [0.06862745 0.57692308]\n",
      " [0.0754717  0.59574468]\n",
      " [0.08235294 0.57352941]]\n",
      "\n",
      "\n",
      "stock_Accuracy_Train = [0.78501629 0.75732899 0.78013029 0.76747967 0.76747967]\n",
      "stock_Accuracy_Val = [0.74025974 0.76623377 0.75974026 0.76470588 0.69934641]\n",
      "\n",
      "\n",
      "stock_AccPerClass_Train = [[0.92151899 0.53881279]\n",
      " [0.92211055 0.4537037 ]\n",
      " [0.9120603  0.53703704]\n",
      " [0.9035533  0.52488688]\n",
      " [0.92771084 0.435     ]]\n",
      "stock_AccPerClass_Val = [[0.83809524 0.53061224]\n",
      " [0.90196078 0.5       ]\n",
      " [0.93137255 0.42307692]\n",
      " [0.9245283  0.40425532]\n",
      " [0.91764706 0.42647059]]\n",
      "\n",
      "\n",
      "Average stock_ConfMat_Train = [[0.9173908  0.0826092 ]\n",
      " [0.50211192 0.49788808]]\n",
      "Average stock_ConfMat_Val = [[0.90272079 0.09727921]\n",
      " [0.54311698 0.45688302]]\n"
     ]
    }
   ],
   "source": [
    "print('stock_average_risk_Train =', stock_average_risk_Train)\n",
    "print('stock_average_risk_Val =', stock_average_risk_Val)\n",
    "print('')\n",
    "print('')\n",
    "print('stock_RiskPerClass_Train =', stock_RiskPerClass_Train)\n",
    "print('stock_RiskPerClass_Val =', stock_RiskPerClass_Val)\n",
    "print('')\n",
    "print('')\n",
    "print('stock_Accuracy_Train =', stock_Accuracy_Train)\n",
    "print('stock_Accuracy_Val =', stock_Accuracy_Val)\n",
    "print('')\n",
    "print('')\n",
    "print('stock_AccPerClass_Train =', stock_AccPerClass_Train)\n",
    "print('stock_AccPerClass_Val =', stock_AccPerClass_Val)\n",
    "print('')\n",
    "print('')\n",
    "print('Average stock_ConfMat_Train =', np.mean(stock_ConfMat_Train,0))\n",
    "print('Average stock_ConfMat_Val =', np.mean(stock_ConfMat_Val,0))"
   ]
  },
  {
   "cell_type": "code",
   "execution_count": null,
   "metadata": {},
   "outputs": [],
   "source": []
  }
 ],
 "metadata": {
  "kernelspec": {
   "display_name": "ML01",
   "language": "python",
   "name": "python3"
  },
  "language_info": {
   "codemirror_mode": {
    "name": "ipython",
    "version": 3
   },
   "file_extension": ".py",
   "mimetype": "text/x-python",
   "name": "python",
   "nbconvert_exporter": "python",
   "pygments_lexer": "ipython3",
   "version": "3.12.2"
  }
 },
 "nbformat": 4,
 "nbformat_minor": 4
}
