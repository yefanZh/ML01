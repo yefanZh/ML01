{
 "cells": [
  {
   "cell_type": "markdown",
   "metadata": {},
   "source": [
    "# ML01 - TD1 : Classifieur des plus proches voisins - Exercices\n",
    "\n",
    "Réalisé par Cyprien Gilet et Khaled Belahcene"
   ]
  },
  {
   "cell_type": "markdown",
   "metadata": {},
   "source": [
    "## Énoncé et bases de données \n",
    "On considère la base de données d'apprentissage suivante où les observations $A,\\dots,J$ sont décrites par 2 variables numériques. Chaque observation appartient à une classe $k\\in\\{1,2\\}$ (notre variable d'intérêt).\n",
    "\n",
    "| Observation | Variable 1 | Variable 2 | Classe |\n",
    "| --- | --- | --- | --- |\n",
    "| A\t| 8\t| 2\t| 1 |\n",
    "| B\t| 4\t| 5\t| 2 |\n",
    "| C\t| 4\t| 3\t| 1 |\n",
    "| D\t| 7\t| 8\t| 2 |\n",
    "| E\t| 2\t| 4\t| 1 |\n",
    "| F\t| 7\t| 4\t| 2 |\n",
    "| G\t| 1\t| 6\t| 1 |\n",
    "| H\t| 8\t| 3\t| 1 |\n",
    "| I\t| 6\t| 2\t| 1 |\n",
    "| J\t| 5\t| 8\t| 2 |\n",
    "\n",
    "L'objectif de ce TD est d'utiliser le classifieur des plus proches voisins pour prédire la classe des observations test $K,L,M$ suivantes (on suppose que les classes réelles de ces observations test sont inconnues et on souhaite les retrouver grâce au classifieur des plus proches voisins).\n",
    "\n",
    "| Observation | Variable 1 | Variable 2 | Classe |\n",
    "| --- | --- | --- | --- |\n",
    "| K\t| 4\t| 7\t| 1 |\n",
    "| L\t| 6\t| 6\t| 2 |\n",
    "| M\t| 1\t| 2\t| 1 |"
   ]
  },
  {
   "cell_type": "markdown",
   "metadata": {},
   "source": [
    "## Partie 1. Exercice sur feuille\n",
    "\n",
    "**Question 1.1.** Représenter le nuage des points $A,\\dots,J$ dans un repère en fonction des deux variables descriptives (de sorte à bien différencier les observations appartenant à la classe 1 de celles appartenant à la classe 2).\n",
    "\n",
    "**Question 1.2.** Sur cette même figure, représenter les points $K,L,M$ et prédire leur classe avec le classifieur du plus plroche voisin (1 seul voisin). Comparer les classes prédites avec leur classe réelle. "
   ]
  },
  {
   "cell_type": "markdown",
   "metadata": {},
   "source": [
    "## Partie 2. Implémentation sur Python\n",
    "\n",
    "L'objectif de cette partie est d'implémenter l'algorithme des plus proches voisins en Python.\n",
    "Le code ci-dessous permet d'importer les librairies importantes.\n"
   ]
  },
  {
   "cell_type": "code",
   "execution_count": 1,
   "metadata": {},
   "outputs": [],
   "source": [
    "import numpy as np\n",
    "import pandas as pd\n",
    "import matplotlib.pyplot as plt"
   ]
  },
  {
   "cell_type": "markdown",
   "metadata": {},
   "source": [
    "Le code ci-dessous définit notre base d'apprentissage et notre base de test."
   ]
  },
  {
   "cell_type": "code",
   "execution_count": 2,
   "metadata": {},
   "outputs": [],
   "source": [
    "#### Base d'apprentissage :\n",
    "\n",
    "# Noms des observations\n",
    "ObsNamesTrain = np.array(['A','B','C','D','E','F','G','H','I','J'])\n",
    "\n",
    "# Variables descriptives\n",
    "XTrain = np.array([[8, 2],\n",
    "       [4, 5],\n",
    "       [4, 3],\n",
    "       [7, 8],\n",
    "       [2, 4],\n",
    "       [7, 4],\n",
    "       [1, 6],\n",
    "       [8, 3],\n",
    "       [6, 2],\n",
    "       [5, 8]])\n",
    "\n",
    "# Classes réelles (labels) \n",
    "YTrain = np.array([1,2,1,2,1,2,1,1,1,2])\n",
    "\n",
    "\n",
    "\n",
    "#### Base de Test :\n",
    "\n",
    "# Noms des observations\n",
    "ObsNamesTest = np.array(['K','L','M'])\n",
    "\n",
    "# Variables descriptives\n",
    "XTest = np.array([[4, 7],\n",
    "       [6, 6],\n",
    "       [1, 2]])\n",
    "\n",
    "# Classes réelles (labels) que l'on supposera inconnues \n",
    "YTest = np.array([1,2,1])"
   ]
  },
  {
   "cell_type": "markdown",
   "metadata": {},
   "source": [
    "**Question 2.1.** Implémenter une fonction des $q$ plus proches voisins (qui prenne en entrés : $XTrain, YTrain, XTest$, $K$ le nombre de classes, et $q\\geq 1$ le nombre de voisins que nous souhaiterons considérer), et qui nous ressorte la classe estimée d'une seule observation de XTest. "
   ]
  },
  {
   "cell_type": "code",
   "execution_count": 3,
   "metadata": {},
   "outputs": [],
   "source": [
    "def function_qNN(XTrain, YTrain, XTest, K, q):\n",
    "    \n",
    "    # À COMPLÉTER...\n",
    "    \n",
    "    return "
   ]
  },
  {
   "cell_type": "markdown",
   "metadata": {},
   "source": [
    "# Question 2.1\n",
    "\n",
    "pour chaque ligne de XTest :\n",
    "- on calcule la distance\n",
    "- on trie les distances\n",
    "- on attribue la classe majoritaire"
   ]
  },
  {
   "cell_type": "markdown",
   "metadata": {},
   "source": [
    "**Question 2.2.** Estimer la classe des observations test $K,L,M$ à l'aide de la fonction *function_qNN* en considérant $q=1$ voisin. Comparer ces estimations avec celles obtenues en Question 1.2 puis avec les classes réelles."
   ]
  },
  {
   "cell_type": "code",
   "execution_count": null,
   "metadata": {},
   "outputs": [],
   "source": []
  },
  {
   "cell_type": "markdown",
   "metadata": {},
   "source": [
    "**Question 2.3.** Compiler le code ci-dessous pour afficher les frontières de décision obtenues avec la fonction *function_qNN* (en augmentant le nombre de voisins $q$)."
   ]
  },
  {
   "cell_type": "code",
   "execution_count": null,
   "metadata": {},
   "outputs": [],
   "source": [
    "K = 2 #Nombre de classes\n",
    "\n",
    "q = 1 #Nombre de voisins\n",
    "\n",
    "\n",
    "def make_meshgrid(x, y, h=.1):\n",
    "    x_min, x_max = x.min() - 1, x.max() + 1\n",
    "    y_min, y_max = y.min() - 1, y.max() + 1\n",
    "    xx, yy = np.meshgrid(np.arange(x_min, x_max, h), np.arange(y_min, y_max, h))\n",
    "    return xx, yy\n",
    "\n",
    "\n",
    "xx1, xx2 = make_meshgrid(XTrain[:,0], XTrain[:,1])\n",
    "XXgrid = np.c_[xx1.ravel(), xx2.ravel()]\n",
    "Z = np.zeros((1, XXgrid.shape[0]))\n",
    "for i in range(0, XXgrid.shape[0]):\n",
    "    Z[0,i] = function_qNN(XTrain, YTrain, XXgrid[i,:], K, q)\n",
    "Z = Z.reshape(xx1.shape)\n",
    "\n",
    "\n",
    "figScatter = plt.figure(figsize=(7.5,7))\n",
    "ax = figScatter.add_subplot(1,1,1)\n",
    "out = ax.contourf(xx1, xx2, Z, alpha=0.2)\n",
    "ax.scatter(XTrain[(np.where(YTrain==1)[0]),0].tolist(), XTrain[(np.where(YTrain==1)[0]),1].tolist(), color='purple', marker='*', label='Train : C1',s=150)\n",
    "ax.scatter(XTrain[(np.where(YTrain==2)[0]),0].tolist(), XTrain[(np.where(YTrain==2)[0]),1].tolist(), color='orange', marker='*', label='Train : C2',s=150)\n",
    "ax.scatter(XTest[:,0].tolist(), XTest[:,1].tolist(), color='blue', marker='o', label='Test samples',s=150)\n",
    "ax.legend(fontsize=15, loc='upper left')\n",
    "ax.scatter(XTrain[(np.where(YTrain==1)[0]),0].tolist(), XTrain[(np.where(YTrain==1)[0]),1].tolist(), color='purple', marker='*', label='Class 1',s=150)\n",
    "ax.scatter(XTrain[(np.where(YTrain==2)[0]),0].tolist(), XTrain[(np.where(YTrain==2)[0]),1].tolist(), color='orange', marker='*', label='Class 2',s=150)\n",
    "ax.set_xlabel(\"Variable 1\",fontsize=16)\n",
    "ax.set_ylabel(\"Variable 2\",fontsize=16)\n",
    "ax.set_xticks(np.arange(1,9,1))\n",
    "ax.set_yticks(np.arange(1,9,1))\n",
    "ax.set_title(\"Frontière de décision obtenue par le classifieur qNN\",fontsize=16)\n",
    "ax.tick_params(axis='x', labelsize=16)\n",
    "ax.tick_params(axis='y', labelsize=16)\n",
    "ax.grid()"
   ]
  },
  {
   "cell_type": "markdown",
   "metadata": {},
   "source": [
    "## Partie 3. Utilisation de Scikit-Learn\n",
    "\n",
    "L'objectif de cette partie est d'utiliser l'algorithme des plus proches voisins proposé par Scikit-Learn.\n",
    "Plus d'informations sont disponibles ici : https://scikit-learn.org/stable/modules/generated/sklearn.neighbors.KNeighborsClassifier.html#sklearn.neighbors.KNeighborsClassifier\n",
    "\n",
    "**Question 3.1.** Appliquer l'algorithme des plus proches voisins proposé par Scikit-Learn sur les trois observations test $K,L,M$ puis comparer les résultats avec ceux obtenus par votre fonction précédente puis avec les classes réelles."
   ]
  },
  {
   "cell_type": "code",
   "execution_count": null,
   "metadata": {},
   "outputs": [],
   "source": []
  },
  {
   "cell_type": "markdown",
   "metadata": {},
   "source": [
    "## Partie 4. Classifieur Euclidien\n",
    "\n",
    "Si vous avez le temps, refaire toutes les questions précédentes avec le classifieur Euclidien.\n",
    "Concernant la fonction Scikit-Learn, plus d'informations sont disponibles ici : https://scikit-learn.org/stable/modules/generated/sklearn.neighbors.NearestCentroid.html#sklearn.neighbors.NearestCentroid"
   ]
  },
  {
   "cell_type": "code",
   "execution_count": null,
   "metadata": {},
   "outputs": [],
   "source": []
  },
  {
   "cell_type": "code",
   "execution_count": null,
   "metadata": {},
   "outputs": [],
   "source": []
  }
 ],
 "metadata": {
  "kernelspec": {
   "display_name": "Python 3 (ipykernel)",
   "language": "python",
   "name": "python3"
  },
  "language_info": {
   "codemirror_mode": {
    "name": "ipython",
    "version": 3
   },
   "file_extension": ".py",
   "mimetype": "text/x-python",
   "name": "python",
   "nbconvert_exporter": "python",
   "pygments_lexer": "ipython3",
   "version": "3.11.4"
  }
 },
 "nbformat": 4,
 "nbformat_minor": 4
}
