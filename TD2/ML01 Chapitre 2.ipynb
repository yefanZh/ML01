{
 "cells": [
  {
   "cell_type": "markdown",
   "metadata": {},
   "source": [
    "# ML01 : Génération de Données et Estimastion du Classifieur de Bayes"
   ]
  },
  {
   "cell_type": "code",
   "execution_count": null,
   "metadata": {},
   "outputs": [],
   "source": [
    "import numpy as np\n",
    "import pandas as pd\n",
    "import matplotlib.pyplot as plt\n",
    "from sklearn import datasets\n",
    "import scipy.stats as stats\n",
    "\n",
    "## Permet la reproducibilité des résultats\n",
    "np.random.seed(10)"
   ]
  },
  {
   "cell_type": "markdown",
   "metadata": {},
   "source": [
    "## Exercice 1. Générations de données par densité Gaussienne et classifieur de Bayes\n",
    "\n",
    "L'objectif de cet exercice est de déterminer le classifieur de Bayes permettant de diagnostiquer une maladie à partir d'une seule variable : la température d'un patient. Pour la suite, la classe 1 caractérisera les patients sains et la classe 2 caractérisera les patients malades.\n",
    "\n",
    "- On considèrera que la densité de distribution caractérisant les patients sains est une Gaussienne de moyenne $\\mu_1$ et de variance $\\sigma_1^2$.\n",
    "- De même, on considèrera que la densité de distribution caractérisant les patients malades est une Gaussienne de moyenne $\\mu_2$ et de variance $\\sigma_2^2$.\n",
    "\n",
    "Autrement dit, pour chaque classe $k\\in\\{1,2\\}$, on a \n",
    "\\begin{equation}\n",
    "f_{X|Y=k}(x) = \\frac{1}{\\sigma_k \\sqrt{2\\pi}} \\, \\mathrm{exp}\\left( -\\frac{(x-\\mu_k)^2}{2\\sigma_k^2}\\right).\n",
    "\\end{equation}\n",
    "\n",
    "Pour des soucis de concision nous pourrons utiliser les notations $f_{1}$ et $f_{2}$ à la place de $f_{X|Y=1}$ et $f_{X|Y=2}$"
   ]
  },
  {
   "cell_type": "markdown",
   "metadata": {},
   "source": [
    "### Question 1 : Générations d'une base d'apprentissage \n",
    "\n",
    "L'objectif de cette question est de générer aléatoirement une base d'apprentissage à partir des densités de distributions de chaque classe. \n",
    "Pour la suite, $X_i$ caractérisera la variable aléatoire caractérisant la température (le profil) d'un patient $i$, et $Y_i$ la variable aléatoire caractérisant sa classe.\n",
    "De même, on considèrera que la probabilité à priori qu'un patient soit malade est égale à $p := \\mathbb{P}\\left(Y^{(i)} = 2\\right)$.\n",
    "\n",
    "\n",
    "- **Probabilités de générer un patient dans chaque classe**\n",
    "    1. Déterminer analytiquement la fonction de densité de distribution $f_X(x)$ de la variable aléatoire $X$ en fonction de $p$, $f_1(x)$  et $f_2(x)$.\n",
    "    2. Déterminer ensuite analytiquement la probabilité qu'un patient $i$ soit sain sachant que sa température est $X^{(i)} = x^{(i)}$. \n",
    "    De même, déterminer analytiquement la probabilité qu'un patient $i$ soit malade sachant que sa température est $X^{(i)} = x^{(i)}$.\n",
    "\n",
    "  *Réponses aux questions 1. et 2.* \n",
    "    1. \n",
    "\\begin{equation}\n",
    "  f_{X}(x) = \\frac{\\p\\*\\f_{X|Y=k}{x}\\}{\\f_{X}{x}\\} \\.\n",
    "\\end{equation}\n",
    "    1. \n",
    "\\begin{equation}\n",
    "  f_{X|Y=k}(x) = \\frac{1}{\\sigma_k \\sqrt{2\\pi}} \\, \\mathrm{exp}\\left( -\\frac{(x-\\mu_k)^2}{2\\sigma_k^2}\\right).\n",
    "\\end{equation}"
   ]
  },
  {
   "cell_type": "markdown",
   "metadata": {},
   "source": [
    "- **Génération de la base de données simulée**\n",
    "    \n",
    "     On considère dans cette question que les paramètres des deux lois gaussiennes sont donnés par $\\mu_1 = 37.8$, $\\mu_2 = 39$, $\\sigma_1 = 0.4$, $\\sigma_2 = 0.2$. On considère également que la probabilité à priori qu'un patient soit malade est égale à $p = \\mathbb{P}\\left(Y^{(i)} = 2\\right) = 0.2$.\n",
    "\n",
    "    - À partir de la variable aléatoire température, générer $n_1 = 80$ patients dans la classe 1 et $n_2 = 20$ patients dans la classe 2. Pour chaque patient de la classe 1, le profil $X^{(i)}$ sera généré aléatoirement suivant la loi $\\mathcal{N}\\left(\\mu_1,\\sigma_1^2\\right)$. Pour chaque patient de la classe 2, le profil $X^{(i)}$ sera généré aléatoirement suivant la loi $\\mathcal{N}\\left(\\mu_2,\\sigma_2^2\\right)$\n",
    "    - Tracer les fonctions de densité $f_1(x)$ et $f_2(x)$ sur une même figure.\n",
    "    - Afficher l'ensemble des patients sur cette même figure (sur l'axe des abscisses) de sorte que l'on visualise bien ceux de la classe 1 et ceux de la classe 2.\n",
    "\n",
    "Pour la suite, cette base de données que nous venons de générer correspondra à notre base d'apprentissage, qui a été générée à partir des paramètres $\\mu_1, \\mu_2, \\sigma_1, \\sigma_2$ connus."
   ]
  },
  {
   "cell_type": "code",
   "execution_count": null,
   "metadata": {},
   "outputs": [],
   "source": [
    "# RÉPONSE À LA QUESTION:\n",
    "\n"
   ]
  },
  {
   "cell_type": "code",
   "execution_count": null,
   "metadata": {},
   "outputs": [],
   "source": [
    "def Plot_densities(mu1, sigma1, mu2, sigma2, X, y):\n",
    "    '''\n",
    "    Trace les densités des lois normales N(mu1, sigma1) et N(mu2, sigma2) ainsi que les \n",
    "    échantillons X en fonction de leur classes y\n",
    "    :param mu1: moyenne de la loi 1\n",
    "    :param sigma1: écart-type de la loi 1\n",
    "    :param mu2: moyenne de la loi 2\n",
    "    :param sigma2: écart-type de la loi 2\n",
    "    :param X: 2d array contenant les m échantillons\n",
    "    :param y: 1d array contenant les classes associées aux m échantillons\n",
    "    :return: None\n",
    "    '''\n",
    "    figScatter = plt.figure(figsize=(10,7))\n",
    "    ax = figScatter.add_subplot(1,1,1)\n",
    "    xx = np.linspace(mu1 - 4*sigma1, mu2 + 4*sigma2, 100)\n",
    "    #Tracé des densité théoriques\n",
    "    density1 = stats.norm.pdf(xx, mu1, sigma1)\n",
    "    density2 = stats.norm.pdf(xx, mu2, sigma2)\n",
    "    ax.plot(xx, density1, color='deepskyblue', linewidth = 1.5)\n",
    "    ax.plot(xx, density2, color='red', linewidth = 1.5)\n",
    "    ax.axhline(0,color='black')\n",
    "    #Tracé des échantillons par classe\n",
    "    ax.scatter(X[np.where(y==1),0].tolist(), [0]*n1, color='deepskyblue', marker='.', label='Class 1',s=200)\n",
    "    ax.scatter(X[np.where(y==2),0].tolist(), [0]*n2, color='red', marker='.', label='Class 2',s=200)\n",
    "    #Legendes\n",
    "    ax.legend(fontsize=20, loc='upper left')\n",
    "    ax.set_xlabel(\"Température\",fontsize=20)\n",
    "    ax.set_ylabel(\"Fonction de densité\",fontsize=20)\n",
    "    ax.tick_params(axis='x', labelsize=20)\n",
    "    ax.tick_params(axis='y', labelsize=20)\n",
    "    ax.set(xlim=(np.min(xx), np.max(xx)))\n",
    "    ax.set(ylim=(-0.1, np.maximum(np.max(density1),np.max(density2))+0.1))\n",
    "\n",
    "Plot_densities(mu1, sigma1, mu2, sigma2, X, y)"
   ]
  },
  {
   "cell_type": "markdown",
   "metadata": {},
   "source": [
    "- **Facultatif** : Modifiez la fonction Plot_densities pour qu'elle prenne en compte les distributions à priori $\\mathbb{P}(Y_i = 1)=1-p$ et $\\mathbb{P}(Y_i = 2)=p$"
   ]
  },
  {
   "cell_type": "markdown",
   "metadata": {},
   "source": [
    "### Question 2 : Classifieur de Bayes théorique \n",
    "\n",
    "L'objectif de cette question est maintenant de déterminer le classifieur de Bayes théorique, c'est à dire le classifieur optimal qui diagnostiquera au mieux les patients de la classe 1 et de la classe 2 lorsque les paramètres $p, \\mu_1, \\mu_2, \\sigma_1, \\sigma_2$ sont connus.  \n",
    "\n",
    "1. Determiner une regle de décision permettant de diagnostiquer au mieux les patients sains ainsi que les patients malades en fonction de la température. Écrire analytiquement cette règle de décision. \n",
    "2. Implémenter une fonction calculant ce classifieur de Bayes théorique et appliquer ensuite ce classifieur sur la base d'apprentissage générée dans la question précédente. Calculer ensuite le taux d'erreur global ainsi que les taux d'erreurs par classe obtenus par ce classifieur de Bayes théorique. \n",
    "\n",
    "\n",
    "- **Réponse à la Question 2.**\n",
    "\n",
    "    1. ..."
   ]
  },
  {
   "cell_type": "code",
   "execution_count": null,
   "metadata": {},
   "outputs": [],
   "source": [
    "# RÉPONSE À LA QUESTION 2.2:\n"
   ]
  },
  {
   "cell_type": "markdown",
   "metadata": {},
   "source": [
    "### Question 3 : Classifieur de Bayes Empirique \n",
    "\n",
    "Rappelons que l'objectif de la première question était de générer une base de données à partir de distributions connues. Ensuite, l'objectif de la question 2 était de déterminer le classifieur de Bayes théorique (le classifieur optimal par rapport aux densités de probabilités issues de la question 1).\n",
    "\n",
    "En pratique dans la vraie vie, nous diposons seulement des observations issues de la base d'apprentissage, mais nous n'avons en général aucune connaissance concernant les densités de probabilités dans chaque classe. À partir de cette base d'apprentissage l'objectif est alors d'apprendre un classifieur qui convergera vers le classifieur de Bayes optimal.\n",
    "\n",
    "Pour cette question, nous supposons donc maintenant que nous disposons seulement de notre base d'apprentissage (températures des 100 patients ainsi que leur classe) générée lors de la question 1.\n",
    "Nous supposons également que la probabilité à priori $p$ ainsi que les densités $f_1(x)$, $f_2(x)$ sont toutes maintenant inconnues. Nous supposerons tout de même que la loi de $X$ est une Gaussienne dans chaque classe, mais que \n",
    "les paramètres $p, \\mu_1, \\mu_2, \\sigma_1, \\sigma_2$ sont maintenant inconnus.\n",
    "\n",
    "\n",
    "1. Comment procèderiez-vous pour apprendre une regle de décision permettant de diagnostiquer au mieux les patients sains ainsi que les patients malades en fonction de la température et en essayant d'approximer le classifieur de Bayes ? \n",
    "\n",
    "2. Implémenter une fonction apprenant ce classifieur sur la base d'apprentissage générée dans la question 1. Calculer ensuite le taux d'erreur global ainsi que les taux d'erreurs par classe obtenus par ce nouveau classifieur et comparer les résultats avec ceux obtenus par le classifieur de Bayes théorique. \n",
    "\n",
    "3. Générer une base de données test (de façon similaire à la question 1) contenant 1000 observations (800 dans la classe 1 et 200 dans la classe 2). Comparer ensuite les performances du classifieur de Bayes théorique et du classifieur de Bayes empirique sur cette nouvelle base de données test.\n",
    "\n",
    "\n",
    "- **Réponse à la Question 3.1**\n",
    "\n",
    "    1. ...\n",
    " \n",
    "         "
   ]
  },
  {
   "cell_type": "code",
   "execution_count": null,
   "metadata": {},
   "outputs": [],
   "source": [
    "# RÉPONSE À LA QUESTION 3.2:\n",
    "\n"
   ]
  },
  {
   "cell_type": "code",
   "execution_count": null,
   "metadata": {},
   "outputs": [],
   "source": [
    "# RÉPONSE À LA QUESTION 3.3:\n",
    "\n"
   ]
  }
 ],
 "metadata": {
  "kernelspec": {
   "display_name": "Python 3 (ipykernel)",
   "language": "python",
   "name": "python3"
  },
  "language_info": {
   "codemirror_mode": {
    "name": "ipython",
    "version": 3
   },
   "file_extension": ".py",
   "mimetype": "text/x-python",
   "name": "python",
   "nbconvert_exporter": "python",
   "pygments_lexer": "ipython3",
   "version": "3.11.4"
  }
 },
 "nbformat": 4,
 "nbformat_minor": 4
}
